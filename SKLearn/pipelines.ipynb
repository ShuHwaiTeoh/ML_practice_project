{
  "nbformat": 4,
  "nbformat_minor": 0,
  "metadata": {
    "colab": {
      "name": "pipelines",
      "provenance": [],
      "collapsed_sections": [],
      "mount_file_id": "1zprcgi_GEmr5ERL2-1rH3J11jJ62hBqS",
      "authorship_tag": "ABX9TyOoaPGOYyCGw4xuJQtqqjWU",
      "include_colab_link": true
    },
    "kernelspec": {
      "name": "python3",
      "display_name": "Python 3"
    }
  },
  "cells": [
    {
      "cell_type": "markdown",
      "metadata": {
        "id": "view-in-github",
        "colab_type": "text"
      },
      "source": [
        "<a href=\"https://colab.research.google.com/github/ShuHwaiTeoh/ML_practice_project/blob/master/SKLearn/pipelines.ipynb\" target=\"_parent\"><img src=\"https://colab.research.google.com/assets/colab-badge.svg\" alt=\"Open In Colab\"/></a>"
      ]
    },
    {
      "cell_type": "code",
      "metadata": {
        "id": "9py4oCu3ev7a",
        "colab_type": "code",
        "outputId": "ab5def42-dbff-436f-c9a0-8341829d71a2",
        "colab": {
          "base_uri": "https://localhost:8080/",
          "height": 308
        }
      },
      "source": [
        "import pandas as pd\n",
        "\n",
        "# Path of the file to read\n",
        "file_path = '/content/drive/My Drive/melb_data.csv'\n",
        "\n",
        "# read the file into a dataframe\n",
        "data = pd.read_csv(file_path, encoding ='Windows-1252')\n",
        "data.describe()"
      ],
      "execution_count": 0,
      "outputs": [
        {
          "output_type": "execute_result",
          "data": {
            "text/html": [
              "<div>\n",
              "<style scoped>\n",
              "    .dataframe tbody tr th:only-of-type {\n",
              "        vertical-align: middle;\n",
              "    }\n",
              "\n",
              "    .dataframe tbody tr th {\n",
              "        vertical-align: top;\n",
              "    }\n",
              "\n",
              "    .dataframe thead th {\n",
              "        text-align: right;\n",
              "    }\n",
              "</style>\n",
              "<table border=\"1\" class=\"dataframe\">\n",
              "  <thead>\n",
              "    <tr style=\"text-align: right;\">\n",
              "      <th></th>\n",
              "      <th>Rooms</th>\n",
              "      <th>Price</th>\n",
              "      <th>Distance</th>\n",
              "      <th>Postcode</th>\n",
              "      <th>Bedroom2</th>\n",
              "      <th>Bathroom</th>\n",
              "      <th>Car</th>\n",
              "      <th>Landsize</th>\n",
              "      <th>BuildingArea</th>\n",
              "      <th>YearBuilt</th>\n",
              "      <th>Lattitude</th>\n",
              "      <th>Longtitude</th>\n",
              "      <th>Propertycount</th>\n",
              "    </tr>\n",
              "  </thead>\n",
              "  <tbody>\n",
              "    <tr>\n",
              "      <th>count</th>\n",
              "      <td>13580.000000</td>\n",
              "      <td>1.358000e+04</td>\n",
              "      <td>13580.000000</td>\n",
              "      <td>13580.000000</td>\n",
              "      <td>13580.000000</td>\n",
              "      <td>13580.000000</td>\n",
              "      <td>13518.000000</td>\n",
              "      <td>13580.000000</td>\n",
              "      <td>7130.000000</td>\n",
              "      <td>8205.000000</td>\n",
              "      <td>13580.000000</td>\n",
              "      <td>13580.000000</td>\n",
              "      <td>13580.000000</td>\n",
              "    </tr>\n",
              "    <tr>\n",
              "      <th>mean</th>\n",
              "      <td>2.937997</td>\n",
              "      <td>1.075684e+06</td>\n",
              "      <td>10.137776</td>\n",
              "      <td>3105.301915</td>\n",
              "      <td>2.914728</td>\n",
              "      <td>1.534242</td>\n",
              "      <td>1.610075</td>\n",
              "      <td>558.416127</td>\n",
              "      <td>151.967650</td>\n",
              "      <td>1964.684217</td>\n",
              "      <td>-37.809203</td>\n",
              "      <td>144.995216</td>\n",
              "      <td>7454.417378</td>\n",
              "    </tr>\n",
              "    <tr>\n",
              "      <th>std</th>\n",
              "      <td>0.955748</td>\n",
              "      <td>6.393107e+05</td>\n",
              "      <td>5.868725</td>\n",
              "      <td>90.676964</td>\n",
              "      <td>0.965921</td>\n",
              "      <td>0.691712</td>\n",
              "      <td>0.962634</td>\n",
              "      <td>3990.669241</td>\n",
              "      <td>541.014538</td>\n",
              "      <td>37.273762</td>\n",
              "      <td>0.079260</td>\n",
              "      <td>0.103916</td>\n",
              "      <td>4378.581772</td>\n",
              "    </tr>\n",
              "    <tr>\n",
              "      <th>min</th>\n",
              "      <td>1.000000</td>\n",
              "      <td>8.500000e+04</td>\n",
              "      <td>0.000000</td>\n",
              "      <td>3000.000000</td>\n",
              "      <td>0.000000</td>\n",
              "      <td>0.000000</td>\n",
              "      <td>0.000000</td>\n",
              "      <td>0.000000</td>\n",
              "      <td>0.000000</td>\n",
              "      <td>1196.000000</td>\n",
              "      <td>-38.182550</td>\n",
              "      <td>144.431810</td>\n",
              "      <td>249.000000</td>\n",
              "    </tr>\n",
              "    <tr>\n",
              "      <th>25%</th>\n",
              "      <td>2.000000</td>\n",
              "      <td>6.500000e+05</td>\n",
              "      <td>6.100000</td>\n",
              "      <td>3044.000000</td>\n",
              "      <td>2.000000</td>\n",
              "      <td>1.000000</td>\n",
              "      <td>1.000000</td>\n",
              "      <td>177.000000</td>\n",
              "      <td>93.000000</td>\n",
              "      <td>1940.000000</td>\n",
              "      <td>-37.856822</td>\n",
              "      <td>144.929600</td>\n",
              "      <td>4380.000000</td>\n",
              "    </tr>\n",
              "    <tr>\n",
              "      <th>50%</th>\n",
              "      <td>3.000000</td>\n",
              "      <td>9.030000e+05</td>\n",
              "      <td>9.200000</td>\n",
              "      <td>3084.000000</td>\n",
              "      <td>3.000000</td>\n",
              "      <td>1.000000</td>\n",
              "      <td>2.000000</td>\n",
              "      <td>440.000000</td>\n",
              "      <td>126.000000</td>\n",
              "      <td>1970.000000</td>\n",
              "      <td>-37.802355</td>\n",
              "      <td>145.000100</td>\n",
              "      <td>6555.000000</td>\n",
              "    </tr>\n",
              "    <tr>\n",
              "      <th>75%</th>\n",
              "      <td>3.000000</td>\n",
              "      <td>1.330000e+06</td>\n",
              "      <td>13.000000</td>\n",
              "      <td>3148.000000</td>\n",
              "      <td>3.000000</td>\n",
              "      <td>2.000000</td>\n",
              "      <td>2.000000</td>\n",
              "      <td>651.000000</td>\n",
              "      <td>174.000000</td>\n",
              "      <td>1999.000000</td>\n",
              "      <td>-37.756400</td>\n",
              "      <td>145.058305</td>\n",
              "      <td>10331.000000</td>\n",
              "    </tr>\n",
              "    <tr>\n",
              "      <th>max</th>\n",
              "      <td>10.000000</td>\n",
              "      <td>9.000000e+06</td>\n",
              "      <td>48.100000</td>\n",
              "      <td>3977.000000</td>\n",
              "      <td>20.000000</td>\n",
              "      <td>8.000000</td>\n",
              "      <td>10.000000</td>\n",
              "      <td>433014.000000</td>\n",
              "      <td>44515.000000</td>\n",
              "      <td>2018.000000</td>\n",
              "      <td>-37.408530</td>\n",
              "      <td>145.526350</td>\n",
              "      <td>21650.000000</td>\n",
              "    </tr>\n",
              "  </tbody>\n",
              "</table>\n",
              "</div>"
            ],
            "text/plain": [
              "              Rooms         Price  ...    Longtitude  Propertycount\n",
              "count  13580.000000  1.358000e+04  ...  13580.000000   13580.000000\n",
              "mean       2.937997  1.075684e+06  ...    144.995216    7454.417378\n",
              "std        0.955748  6.393107e+05  ...      0.103916    4378.581772\n",
              "min        1.000000  8.500000e+04  ...    144.431810     249.000000\n",
              "25%        2.000000  6.500000e+05  ...    144.929600    4380.000000\n",
              "50%        3.000000  9.030000e+05  ...    145.000100    6555.000000\n",
              "75%        3.000000  1.330000e+06  ...    145.058305   10331.000000\n",
              "max       10.000000  9.000000e+06  ...    145.526350   21650.000000\n",
              "\n",
              "[8 rows x 13 columns]"
            ]
          },
          "metadata": {
            "tags": []
          },
          "execution_count": 17
        }
      ]
    },
    {
      "cell_type": "code",
      "metadata": {
        "id": "ZpXTH6TiioUq",
        "colab_type": "code",
        "colab": {}
      },
      "source": [
        "y = data.Price"
      ],
      "execution_count": 0,
      "outputs": []
    },
    {
      "cell_type": "code",
      "metadata": {
        "id": "ZZRhYeZAikn4",
        "colab_type": "code",
        "colab": {}
      },
      "source": [
        "# Drop target column from dataset\n",
        "X = data.drop(['Price'], axis=1)"
      ],
      "execution_count": 0,
      "outputs": []
    },
    {
      "cell_type": "code",
      "metadata": {
        "id": "FykZ_YSSgbni",
        "colab_type": "code",
        "colab": {}
      },
      "source": [
        "from sklearn.model_selection import train_test_split\n",
        "\n",
        "X_train_full, X_valid_full, y_train, y_valid = train_test_split(X, y, train_size=0.8, test_size=0.2, random_state=0)"
      ],
      "execution_count": 0,
      "outputs": []
    },
    {
      "cell_type": "code",
      "metadata": {
        "id": "iT9QbmGa0tpB",
        "colab_type": "code",
        "colab": {}
      },
      "source": [
        "# Select categorical columns with relatively low cardinality (convenient but arbitrary)\n",
        "categorical_cols = [cname for cname in X_train_full.columns if X_train_full[cname].nunique() < 10 and \n",
        "                        X_train_full[cname].dtype == \"object\"]\n",
        "\n",
        "# Select numerical columns\n",
        "numerical_cols = [cname for cname in X_train_full.columns if X_train_full[cname].dtype in ['int64', 'float64']]\n",
        "\n",
        "# Keep selected columns only\n",
        "my_cols = categorical_cols + numerical_cols\n",
        "X_train = X_train_full[my_cols].copy()\n",
        "X_valid = X_valid_full[my_cols].copy()"
      ],
      "execution_count": 0,
      "outputs": []
    },
    {
      "cell_type": "code",
      "metadata": {
        "id": "8rHFgPvczJE-",
        "colab_type": "code",
        "colab": {}
      },
      "source": [
        "from sklearn.compose import ColumnTransformer\n",
        "from sklearn.pipeline import Pipeline\n",
        "from sklearn.impute import SimpleImputer\n",
        "from sklearn.preprocessing import OneHotEncoder\n",
        "\n",
        "# Preprocessing for numerical data\n",
        "# “constant”: replace missing values with fill_value.\n",
        "# \"fill_value\": If left to the default, fill_value will be 0 when imputing numerical data \n",
        "#                                       and “missing_value” for strings or object data types.\n",
        "numerical_transformer = SimpleImputer(strategy='mean')\n",
        "\n",
        "# Preprocessing for categorical data\n",
        "categorical_transformer = Pipeline(steps=[\n",
        "    ('imputer', SimpleImputer(strategy='most_frequent')),\n",
        "    ('onehot', OneHotEncoder(handle_unknown='ignore'))\n",
        "])\n",
        "\n",
        "# Bundle preprocessing for numerical and categorical data\n",
        "preprocessor = ColumnTransformer(\n",
        "    transformers=[\n",
        "        ('num', numerical_transformer, numerical_cols),\n",
        "        ('cat', categorical_transformer, categorical_cols)\n",
        "    ])"
      ],
      "execution_count": 0,
      "outputs": []
    },
    {
      "cell_type": "code",
      "metadata": {
        "id": "UZD637Co1r7f",
        "colab_type": "code",
        "colab": {}
      },
      "source": [
        "from sklearn.ensemble import RandomForestRegressor\n",
        "\n",
        "model = RandomForestRegressor(n_estimators=100, random_state=0)"
      ],
      "execution_count": 0,
      "outputs": []
    },
    {
      "cell_type": "code",
      "metadata": {
        "id": "BMHc7kSD2hH5",
        "colab_type": "code",
        "outputId": "5d527d2e-b7d8-4981-b925-9c2502ffa23e",
        "colab": {
          "base_uri": "https://localhost:8080/",
          "height": 34
        }
      },
      "source": [
        "from sklearn.metrics import mean_absolute_error\n",
        "\n",
        "# Bundle preprocessing and modeling code in a pipeline\n",
        "my_pipeline = Pipeline(steps=[('preprocessor', preprocessor),\n",
        "                              ('model', model)\n",
        "                             ])\n",
        "\n",
        "# Preprocessing of training data, fit model \n",
        "my_pipeline.fit(X_train, y_train)\n",
        "\n",
        "# Preprocessing of validation data, get predictions\n",
        "preds = my_pipeline.predict(X_valid)\n",
        "\n",
        "# Evaluate the model\n",
        "score = mean_absolute_error(y_valid, preds)\n",
        "print('MAE:', score)"
      ],
      "execution_count": 0,
      "outputs": [
        {
          "output_type": "stream",
          "text": [
            "MAE: 160814.63047680413\n"
          ],
          "name": "stdout"
        }
      ]
    }
  ]
}